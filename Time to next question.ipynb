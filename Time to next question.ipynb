{
 "cells": [
  {
   "cell_type": "markdown",
   "id": "86c69d9a",
   "metadata": {
    "toc": true
   },
   "source": [
    "<h1>Table of Contents<span class=\"tocSkip\"></span></h1>\n",
    "<div class=\"toc\"><ul class=\"toc-item\"></ul></div>"
   ]
  },
  {
   "cell_type": "markdown",
   "id": "924487dd",
   "metadata": {},
   "source": [
    "Experiments to check the order of magnitude of time to produce new question"
   ]
  },
  {
   "cell_type": "code",
   "execution_count": 1,
   "id": "c19e32c7",
   "metadata": {},
   "outputs": [],
   "source": [
    "from igr import *\n",
    "import networkx as nx\n",
    "import numpy as np"
   ]
  },
  {
   "cell_type": "code",
   "execution_count": 14,
   "id": "b58805ab",
   "metadata": {},
   "outputs": [],
   "source": [
    "import timeit"
   ]
  },
  {
   "cell_type": "code",
   "execution_count": 15,
   "id": "7cec0011",
   "metadata": {},
   "outputs": [],
   "source": [
    "alphabet = list(range(10000))\n",
    "G,S,H = generate_GSG(v_size=10000)"
   ]
  },
  {
   "cell_type": "code",
   "execution_count": 16,
   "id": "8ae15385",
   "metadata": {},
   "outputs": [
    {
     "name": "stdout",
     "output_type": "stream",
     "text": [
      "The start time is : 8498.1390495\n",
      "The time difference is : 0.04576960000122199\n"
     ]
    }
   ],
   "source": [
    "starttime = timeit.default_timer()\n",
    "print(\"The start time is :\",starttime)\n",
    "selectConflictGreedy(H, S)\n",
    "print(\"The time difference is :\", timeit.default_timer() - starttime)"
   ]
  },
  {
   "cell_type": "code",
   "execution_count": 25,
   "id": "d9042ec4",
   "metadata": {},
   "outputs": [
    {
     "name": "stderr",
     "output_type": "stream",
     "text": [
      "/tmp/ipykernel_244/1212500712.py:5: VisibleDeprecationWarning: Creating an ndarray from ragged nested sequences (which is a list-or-tuple of lists-or-tuples-or ndarrays with different lengths or shapes) is deprecated. If you meant to do this, you must specify 'dtype=object' when creating the ndarray.\n",
      "  an = np.random.choice(ans)\n"
     ]
    },
    {
     "name": "stdout",
     "output_type": "stream",
     "text": [
      "The time difference is  0.03830789999847184 ms\n",
      "The time difference is  0.028798100000130944 ms\n",
      "The time difference is  0.023988000000827014 ms\n",
      "The time difference is  0.025028699998074444 ms\n",
      "The time difference is  0.023033099998428952 ms\n",
      "The time difference is  0.02436939999824972 ms\n",
      "The time difference is  0.024852300000929972 ms\n",
      "The time difference is  0.024606599999970058 ms\n",
      "The time difference is  0.022022699999070028 ms\n",
      "The time difference is  0.026241100000333972 ms\n"
     ]
    }
   ],
   "source": [
    "for i in range(10):\n",
    "    starttime = timeit.default_timer()\n",
    "    c = selectConflictGreedy(H, S)\n",
    "    ans = answersDecrease(c, H, S)\n",
    "    an = np.random.choice(ans)\n",
    "    applyTransformation(c, an, H, S)\n",
    "    print(\"The time difference is \", timeit.default_timer() - starttime, \"ms\")"
   ]
  },
  {
   "cell_type": "code",
   "execution_count": 26,
   "id": "2017b7c4",
   "metadata": {},
   "outputs": [
    {
     "name": "stdout",
     "output_type": "stream",
     "text": [
      "The time difference is  0.03239600000961218 ms\n",
      "The time difference is  0.04078290000325069 ms\n",
      "The time difference is  0.02410589999635704 ms\n",
      "The time difference is  0.0219063999975333 ms\n",
      "The time difference is  0.02919889999611769 ms\n",
      "The time difference is  0.02710819999629166 ms\n",
      "The time difference is  0.01758230000268668 ms\n",
      "The time difference is  0.01601630001096055 ms\n",
      "The time difference is  0.01617630000691861 ms\n",
      "The time difference is  0.015921199999866076 ms\n"
     ]
    }
   ],
   "source": [
    "for i in range(10):\n",
    "    starttime = timeit.default_timer()\n",
    "    c = selectConflictPossibleRepair(H, S)\n",
    "    print(\"The time difference is \", timeit.default_timer() - starttime, \"ms\")"
   ]
  },
  {
   "cell_type": "code",
   "execution_count": null,
   "id": "78733929",
   "metadata": {},
   "outputs": [],
   "source": []
  }
 ],
 "metadata": {
  "kernelspec": {
   "display_name": "Python [conda env:ada] *",
   "language": "python",
   "name": "conda-env-ada-py"
  },
  "language_info": {
   "codemirror_mode": {
    "name": "ipython",
    "version": 3
   },
   "file_extension": ".py",
   "mimetype": "text/x-python",
   "name": "python",
   "nbconvert_exporter": "python",
   "pygments_lexer": "ipython3",
   "version": "3.8.11"
  },
  "toc": {
   "base_numbering": 1,
   "nav_menu": {},
   "number_sections": true,
   "sideBar": true,
   "skip_h1_title": false,
   "title_cell": "Table of Contents",
   "title_sidebar": "Contents",
   "toc_cell": true,
   "toc_position": {},
   "toc_section_display": true,
   "toc_window_display": false
  }
 },
 "nbformat": 4,
 "nbformat_minor": 5
}
